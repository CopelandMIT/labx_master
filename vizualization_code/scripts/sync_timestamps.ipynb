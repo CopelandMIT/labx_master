{
 "cells": [
  {
   "cell_type": "code",
   "execution_count": null,
   "metadata": {},
   "outputs": [],
   "source": []
  }
 ],
 "metadata": {
  "kernelspec": {
   "display_name": "Python 3.10.14 ('labx_env')",
   "language": "python",
   "name": "python3"
  },
  "language_info": {
   "name": "python",
   "version": "3.10.14"
  },
  "orig_nbformat": 4,
  "vscode": {
   "interpreter": {
    "hash": "4898122de8d68b709e341514d93b32ca3bf5c81bab26c47a4ab23f1bf068bc76"
   }
  }
 },
 "nbformat": 4,
 "nbformat_minor": 2
}
